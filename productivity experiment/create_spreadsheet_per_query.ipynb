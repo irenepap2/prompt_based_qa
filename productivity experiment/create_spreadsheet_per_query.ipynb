{
 "cells": [
  {
   "cell_type": "code",
   "execution_count": null,
   "metadata": {},
   "outputs": [],
   "source": [
    "import pandas as pd\n",
    "import os\n",
    "import json\n",
    "\n",
    "query_dict = {}\n",
    "\n",
    "with open(os.path.join(\"..\", \"data\", \"tabular_queries_chosen.csv\"), \"r\") as f:\n",
    "    file_list = pd.read_csv(f)\n",
    "    \n",
    "query_ids = file_list[\"Query ID\"]\n",
    "queries = file_list[\"Query\"]\n",
    "extract_queries = file_list[\"Extract Query\"]\n",
    "\n",
    "for query_id, query, extract_query in zip(query_ids, queries, extract_queries):\n",
    "    with open(os.path.join(\"..\", \"data\", \"collections\", \"knn\", f\"{query}.json\"), \"r\") as f:\n",
    "        collection = json.load(f)\n",
    "        passages = [collection[\"hits\"][i][\"passages\"] for i in range(len(collection[\"hits\"]))]\n",
    "\n",
    "    with open(os.path.join(\"..\", \"data\", \"collections\", \"knn\", \"zeta_alpha_prompt\", f\"{query_id}_{query}.csv\"), \"r\") as f:\n",
    "        df = pd.read_csv(f)\n",
    "        # get the gen_answers column\n",
    "        gen_answers = df[\"gen_answer\"]\n",
    "        titles = df[\"Title\"]\n",
    "        urls = df[\"URL\"]\n",
    "        guids = df[\"guid\"]\n",
    "\n",
    "        df_answers = []\n",
    "        df_passages = []\n",
    "        for answer_list, passage_list in zip(gen_answers, passages):\n",
    "            final_answers = []\n",
    "            final_passages = []\n",
    "            answer_list = eval(answer_list)\n",
    "            answer_set = set()\n",
    "            for answer, passage in zip(answer_list, passage_list):\n",
    "                answer, passage = answer.strip(), passage.strip()\n",
    "                if answer not in answer_set and answer != \"NA\":\n",
    "                    final_answers.append(answer)\n",
    "                    final_passages.append(passage)\n",
    "                    answer_set.add(answer)\n",
    "\n",
    "            if final_answers == []:\n",
    "                final_answers = [\"NA\"]\n",
    "                final_passages = passage_list\n",
    "\n",
    "            # remove new lines from final passages\n",
    "            final_passages = [passage.replace(\"\\n\", \" \") for passage in final_passages]\n",
    "\n",
    "            df_answers.append(final_answers)\n",
    "            df_passages.append(final_passages)\n",
    "        \n",
    "        df[\"final_answers\"] = df_answers\n",
    "        df[\"final_passages\"] = df_passages\n",
    "        df[[\"guid\", \"Title\", \"URL\", \"final_answers\", \"final_passages\"]].to_csv(os.path.join(\"..\", \"data\", \"collections\", \"knn\", \"zeta_alpha_prompt\", f\"{query_id}.csv\"), index=False)\n",
    "            "
   ]
  },
  {
   "cell_type": "code",
   "execution_count": null,
   "metadata": {},
   "outputs": [],
   "source": [
    "# show all in series\n",
    "series = query_dict[\"8d44bd26\"][\"answers\"]\n",
    "for i in range(len(series)):\n",
    "    print(series[i])"
   ]
  },
  {
   "cell_type": "code",
   "execution_count": null,
   "metadata": {},
   "outputs": [],
   "source": [
    "for query_id, items in query_dict.items():\n",
    "    for answer_list, passage_list in zip(items[\"answers\"], items[\"passages\"]):\n",
    "        answer_list = eval(answer_list)\n",
    "        # remove duplicates from answers\n",
    "        final_answers = []\n",
    "        final_passages = []\n",
    "        answer_set = set()\n",
    "        for answer, passage in zip(answer_list, passage_list):\n",
    "            answer, passage = answer.strip(), passage.strip()\n",
    "            if answer not in answer_set and answer != \"NA\":\n",
    "                final_answers.append(answer)\n",
    "                final_passages.append(passage)\n",
    "                answer_set.add(answer)\n",
    "\n",
    "        if final_answers == []:\n",
    "            final_answers = [\"NA\"]\n",
    "            final_passages = passage_list\n",
    "\n",
    "        # remove new lines from final passages\n",
    "        final_passages = [passage.replace(\"\\n\", \" \") for passage in final_passages]\n",
    "\n",
    "        query_dict[query_id][\"final_answers\"] = final_answers\n",
    "        query_dict[query_id][\"final_passages\"] = final_passages\n",
    "\n",
    "    items[\"final_answers\"] = str(items[\"final_answers\"])\n",
    "    items[\"final_passages\"] = str(items[\"final_passages\"])\n",
    "\n",
    "    df = pd.DataFrame(items)\n",
    "    df[[\"guids\", \"titles\", \"urls\", \"final_answers\", \"final_passages\"]].to_csv(os.path.join(\"data\", \"collections\", \"knn\", \"zeta_alpha_prompt\", f\"{query_id}.csv\"), index=False)"
   ]
  }
 ],
 "metadata": {
  "kernelspec": {
   "display_name": "thesis",
   "language": "python",
   "name": "python3"
  },
  "language_info": {
   "codemirror_mode": {
    "name": "ipython",
    "version": 3
   },
   "file_extension": ".py",
   "mimetype": "text/x-python",
   "name": "python",
   "nbconvert_exporter": "python",
   "pygments_lexer": "ipython3",
   "version": "3.9.15"
  },
  "orig_nbformat": 4,
  "vscode": {
   "interpreter": {
    "hash": "0489772436b17a7398828cf658e622302372e5cbea7306ec070702a3e6380b80"
   }
  }
 },
 "nbformat": 4,
 "nbformat_minor": 2
}
