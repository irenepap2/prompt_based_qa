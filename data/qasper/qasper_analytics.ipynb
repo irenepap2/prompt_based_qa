{
 "cells": [
  {
   "cell_type": "markdown",
   "metadata": {},
   "source": [
    "### QASPER Analytics"
   ]
  },
  {
   "cell_type": "code",
   "execution_count": null,
   "metadata": {},
   "outputs": [],
   "source": [
    "import json\n",
    "import os\n",
    "\n",
    "TRAIN_FILE = os.path.join('qasper-train-v0.3.json')\n",
    "DEV_FILE = os.path.join('qasper-dev-v0.3.json')\n",
    "TEST_FILE = os.path.join('qasper-test-v0.3.json')\n",
    "\n",
    "split = 'dev'\n",
    "SAVE_COLL_FILE = f'./qasper_{split}_collection.jsonl'\n",
    "\n",
    "# per document collection\n",
    "COLL_PATH = f'./collections/{split}/'\n",
    "os.makedirs(COLL_PATH, exist_ok=True)\n",
    "\n",
    "with open(TRAIN_FILE, 'r') as f:\n",
    "    train = json.load(f)\n",
    "\n",
    "with open(DEV_FILE, 'r') as f:\n",
    "    dev = json.load(f)\n",
    "\n",
    "with open(TEST_FILE, 'r') as f:\n",
    "    test = json.load(f)"
   ]
  },
  {
   "cell_type": "code",
   "execution_count": null,
   "metadata": {},
   "outputs": [],
   "source": [
    "test_questions = {}\n",
    "for k, v in test.items():\n",
    "    for qa in v['qas']:\n",
    "        q_id = qa['question_id']\n",
    "        test_questions[q_id] = qa['question']\n",
    "\n",
    "dev_questions = {}\n",
    "for k, v in dev.items():\n",
    "    for qa in v['qas']:\n",
    "        q_id = qa['question_id']\n",
    "        dev_questions[q_id] = qa['question']\n",
    "\n",
    "train_questions = {}\n",
    "for k, v in train.items():\n",
    "    for qa in v['qas']:\n",
    "        q_id = qa['question_id']\n",
    "        train_questions[q_id] = qa['question']\n",
    "        \n",
    "print(len(train))\n",
    "print(len(dev))\n",
    "print(len(test))\n",
    "\n",
    "print(len(train_questions))\n",
    "print(len(dev_questions))\n",
    "print(len(test_questions))"
   ]
  },
  {
   "cell_type": "code",
   "execution_count": null,
   "metadata": {},
   "outputs": [],
   "source": [
    "# join all dicts into one\n",
    "all = train | dev | test\n",
    "\n",
    "# Gather all questions and types\n",
    "answers_count = 0\n",
    "all_questions = {}\n",
    "all_answer_types = {}\n",
    "answers = []\n",
    "for k, v in all.items():\n",
    "    for qa in v['qas']:\n",
    "        q_id = qa['question_id']\n",
    "        answer_type = {\"none\": 0, \"extractive\": 0, \"abstractive\": 0, \"boolean\": 0}\n",
    "        for annotation_info in qa[\"answers\"]:\n",
    "                answers_count += 1\n",
    "                answer_info = annotation_info[\"answer\"]\n",
    "                if answer_info[\"unanswerable\"]:\n",
    "                        answer = \"unanswerable\"\n",
    "                        answer_type[\"none\"] += 1\n",
    "                elif answer_info[\"extractive_spans\"]:\n",
    "                        answer = \", \".join(answer_info[\"extractive_spans\"])\n",
    "                        answer_type[\"extractive\"] += 1\n",
    "                elif answer_info[\"free_form_answer\"]:\n",
    "                        answer = answer_info[\"free_form_answer\"]\n",
    "                        answer_type[\"abstractive\"] += 1\n",
    "                elif answer_info[\"yes_no\"]:\n",
    "                        answer = \"Yes\"\n",
    "                        answer_type[\"boolean\"] += 1\n",
    "                elif answer_info[\"yes_no\"] is not None:\n",
    "                        answer = \"No\"\n",
    "                        answer_type[\"boolean\"] += 1\n",
    "                else:\n",
    "                    raise RuntimeError(f\"Annotation {answer_info['annotation_id']} does not contain an answer\")\n",
    "                answers.append(answer)\n",
    "        all_questions[q_id] = qa['question']\n",
    "        all_answer_types[q_id] = answer_type\n",
    "answers_count"
   ]
  },
  {
   "cell_type": "code",
   "execution_count": null,
   "metadata": {},
   "outputs": [],
   "source": [
    "# find mean length of answers\n",
    "import numpy as np\n",
    "\n",
    "answer_lengths = []\n",
    "for answer in answers:\n",
    "    answer_lengths.append(len(answer.split(' ')))\n",
    "print(np.mean(answer_lengths))\n",
    "print(np.median(answer_lengths))\n",
    "np.sort(answer_lengths)"
   ]
  },
  {
   "cell_type": "code",
   "execution_count": null,
   "metadata": {},
   "outputs": [],
   "source": [
    "all_types_count = {\"none\": 0, \"extractive\": 0, \"abstractive\": 0, \"boolean\": 0}\n",
    "for v in all_answer_types.values():\n",
    "    for type, count in v.items():\n",
    "        all_types_count[type] += count\n",
    "all_types_count"
   ]
  },
  {
   "cell_type": "code",
   "execution_count": null,
   "metadata": {},
   "outputs": [],
   "source": [
    "print(len(all_questions))\n",
    "print(len(all))"
   ]
  },
  {
   "cell_type": "code",
   "execution_count": null,
   "metadata": {},
   "outputs": [],
   "source": [
    "general_questions = {v : [k for k, v2 in all_questions.items() if v2 == v] for v in all_questions.values()}\n",
    "specific_questions = {k : v for k, v in general_questions.items() if len(v) == 1}\n",
    "general_questions = {k : v for k, v in general_questions.items() if len(v) > 1}\n",
    "print(len(general_questions))\n",
    "print(len(specific_questions))\n",
    "\n",
    "general_train_questions = {v : [k for k, v2 in train_questions.items() if v2 == v] for v in train_questions.values()}\n",
    "specific_train_questions = {k : v for k, v in general_train_questions.items() if len(v) == 1}\n",
    "general_train_questions = {k : v for k, v in general_train_questions.items() if len(v) > 1}\n",
    "print(len(general_train_questions))\n",
    "print(len(specific_train_questions))\n",
    "\n",
    "general_test_questions = {v : [k for k, v2 in test_questions.items() if v2 == v] for v in test_questions.values()}\n",
    "specific_test_questions = {k : v for k, v in general_test_questions.items() if len(v) == 1}\n",
    "general_test_questions = {k : v for k, v in general_test_questions.items() if len(v) > 1}\n",
    "print(len(general_test_questions))\n",
    "print(len(specific_test_questions))\n",
    "\n",
    "general_dev_questions = {v : [k for k, v2 in dev_questions.items() if v2 == v] for v in dev_questions.values()}\n",
    "specific_dev_questions = {k : v for k, v in general_dev_questions.items() if len(v) == 1}\n",
    "general_dev_questions = {k : v for k, v in general_dev_questions.items() if len(v) > 1}\n",
    "print(len(general_dev_questions))\n",
    "print(len(specific_dev_questions))"
   ]
  },
  {
   "cell_type": "code",
   "execution_count": null,
   "metadata": {},
   "outputs": [],
   "source": [
    "general_test_questions"
   ]
  },
  {
   "cell_type": "code",
   "execution_count": null,
   "metadata": {},
   "outputs": [],
   "source": [
    "with open(\"./general_test_questions.json\", \"w\") as f:\n",
    "    json.dump(general_test_questions, f, indent = 4)"
   ]
  },
  {
   "cell_type": "code",
   "execution_count": null,
   "metadata": {},
   "outputs": [],
   "source": [
    "from tqdm import tqdm\n",
    "count = 0\n",
    "for k, v in tqdm(train.items()):\n",
    "    for qa in tqdm(v['qas']):\n",
    "        q_id = qa['question_id']\n",
    "        types = {\"none\": 0, \"extractive\": 0, \"abstractive\": 0, \"boolean\": 0}\n",
    "        for answer in qa['answers']:\n",
    "            answer_info = answer[\"answer\"]\n",
    "            if answer_info[\"unanswerable\"]:\n",
    "                types[\"none\"] += 1\n",
    "            elif answer_info[\"extractive_spans\"]:\n",
    "                types[\"extractive\"] += 1\n",
    "            elif answer_info[\"free_form_answer\"]:\n",
    "                types[\"abstractive\"] += 1\n",
    "            elif answer_info[\"yes_no\"] or answer_info[\"yes_no\"] is not None:\n",
    "                types[\"boolean\"] += 1\n",
    "            else:\n",
    "                raise RuntimeError(f\"Annotation {answer_info['annotation_id']} does not contain an answer\")\n",
    "        if len(qa['answers']) > 1:\n",
    "            non_zero_types = {k : v for k, v in types.items() if v != 0}\n",
    "            print(non_zero_types)\n",
    "            if len(non_zero_types) > 1:\n",
    "                count += 1\n",
    "                \n",
    "print(count)"
   ]
  }
 ],
 "metadata": {
  "kernelspec": {
   "display_name": "Python 3.9.15 ('thesis')",
   "language": "python",
   "name": "python3"
  },
  "language_info": {
   "codemirror_mode": {
    "name": "ipython",
    "version": 3
   },
   "file_extension": ".py",
   "mimetype": "text/x-python",
   "name": "python",
   "nbconvert_exporter": "python",
   "pygments_lexer": "ipython3",
   "version": "3.9.15"
  },
  "orig_nbformat": 4,
  "vscode": {
   "interpreter": {
    "hash": "f5db69e486b1ad77ada501eb583d0ea38590d7392e592d7270e62511894061ae"
   }
  }
 },
 "nbformat": 4,
 "nbformat_minor": 2
}
